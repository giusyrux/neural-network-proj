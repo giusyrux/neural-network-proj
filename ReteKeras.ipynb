{
  "nbformat": 4,
  "nbformat_minor": 0,
  "metadata": {
    "colab": {
      "name": "ReteKeras.ipynb",
      "provenance": [],
      "collapsed_sections": []
    },
    "kernelspec": {
      "name": "python3",
      "display_name": "Python 3"
    },
    "language_info": {
      "name": "python"
    }
  },
  "cells": [
    {
      "cell_type": "code",
      "metadata": {
        "colab": {
          "base_uri": "https://localhost:8080/"
        },
        "id": "C9xCU849EWoq",
        "outputId": "0da70d6c-54d4-4f9e-f11a-34ad08adacb2"
      },
      "source": [
        "import keras\n",
        "from keras.layers import *\n",
        "from keras import Sequential\n",
        "from keras.datasets import mnist\n",
        "import numpy as np\n",
        "from rprop import RProp\n",
        "import tensorflow as tf\n",
        "\n",
        "\n",
        "#tf.compat.v1.disable_eager_execution()\n",
        "\n",
        "def oneHotEncoding(labels):\n",
        "  newLabels = np.zeros((len(labels),10)) #numero immagini/etichette x 10 (classi possibili)\n",
        "  print(newLabels.shape)\n",
        "  for i in range(len(labels)):\n",
        "    newLabels[i,labels[i]] = 1  #quindi se un'etichetta in posizione i ha valore 9, l'i-esima etichetta nuova avrà in posizione 9, 1.\n",
        "  return newLabels\n",
        "\n",
        "params = {\"neurons\":[256,128,10],\"activation\":[\"relu\",\"relu\",\"relu\",\"identity\"],\"softmax\":\"yes\",\"loss\":\"ce\",\"optimizer\":\"rprop\"}\n",
        "\n",
        "dataset = mnist.load_data()\n",
        "\n",
        "train_set = dataset[0]\n",
        "test_set = dataset[1]\n",
        "\n",
        "(X_train,Y_train) = train_set\n",
        "(X_test,Y_test) = test_set\n",
        "#Normalizziamo i dati di training con min max normalization (posso farlo perché min e max sono noti, min:0  max 255) \n",
        "X_train = X_train / 255.0   #(X-min)/(max-min)\n",
        "X_test = X_test / 255.0\n",
        "\n",
        "#Flattening dei dati\n",
        "X_train = np.reshape(X_train,(X_train.shape[0],pow(X_train.shape[1],2))) #(60000,28*28)\n",
        "X_test = np.reshape(X_test,(X_test.shape[0],pow(X_test.shape[1],2))) \n",
        "\n",
        "\n",
        "print(\"Prima etichetta prima di codifica one hot: {}\".format(Y_train[0]))\n",
        "Y_train = oneHotEncoding(Y_train)\n",
        "\n",
        "print(\"Prima etichetta dopo codifica:\")\n",
        "print(Y_train[0])\n",
        "\n",
        "\n",
        "#Costruzione Modello\n",
        "\n",
        "net = Sequential(name=\"Tonino\")\n",
        "neurons = params[\"neurons\"]\n",
        "activations = params[\"activation\"]\n",
        "net.add(Input((X_train.shape[1])))\n",
        "for i in range(len(neurons)):\n",
        "  net.add(Dense(neurons[i],(activations[i],None)[activations[i]==\"identity\"],kernel_initializer=\"random_normal\"))\n",
        "if params[\"softmax\"]==\"yes\":\n",
        "  net.add(Softmax())\n",
        "net.summary()\n",
        "\n",
        "#Fine Costruzione\n",
        "\n",
        "net.compile(optimizer=\"adam\",run_eagerly=False,\n",
        "              loss=\"mse\",\n",
        "              metrics=['accuracy'])\n",
        "\n",
        "\n",
        "net.fit(X_train, Y_train, epochs=10, batch_size=32)#X_train.shape[0])\n",
        "result = net.predict(X_test[:1],batch_size=1)\n",
        "print(result)\n",
        "print(Y_test[0])\n",
        "\n"
      ],
      "execution_count": null,
      "outputs": [
        {
          "output_type": "stream",
          "name": "stdout",
          "text": [
            "Prima etichetta prima di codifica one hot: 5\n",
            "(60000, 10)\n",
            "Prima etichetta dopo codifica:\n",
            "[0. 0. 0. 0. 0. 1. 0. 0. 0. 0.]\n",
            "Model: \"Tonino\"\n",
            "_________________________________________________________________\n",
            "Layer (type)                 Output Shape              Param #   \n",
            "=================================================================\n",
            "dense_78 (Dense)             (None, 256)               200960    \n",
            "_________________________________________________________________\n",
            "dense_79 (Dense)             (None, 128)               32896     \n",
            "_________________________________________________________________\n",
            "dense_80 (Dense)             (None, 10)                1290      \n",
            "_________________________________________________________________\n",
            "softmax_8 (Softmax)          (None, 10)                0         \n",
            "=================================================================\n",
            "Total params: 235,146\n",
            "Trainable params: 235,146\n",
            "Non-trainable params: 0\n",
            "_________________________________________________________________\n",
            "Train on 60000 samples\n",
            "Epoch 1/10\n",
            "60000/60000 [==============================] - 7s 114us/sample - loss: 0.0435 - accuracy: 0.6493\n",
            "Epoch 2/10\n",
            "60000/60000 [==============================] - 6s 106us/sample - loss: 0.0391 - accuracy: 0.6813\n",
            "Epoch 3/10\n",
            "60000/60000 [==============================] - 7s 111us/sample - loss: 0.0326 - accuracy: 0.7497\n",
            "Epoch 4/10\n",
            "60000/60000 [==============================] - 6s 107us/sample - loss: 0.0292 - accuracy: 0.7854\n",
            "Epoch 5/10\n",
            "60000/60000 [==============================] - 7s 111us/sample - loss: 0.0288 - accuracy: 0.7883\n",
            "Epoch 6/10\n",
            "60000/60000 [==============================] - 6s 106us/sample - loss: 0.0285 - accuracy: 0.7908\n",
            "Epoch 7/10\n",
            "60000/60000 [==============================] - 7s 109us/sample - loss: 0.0283 - accuracy: 0.7919\n",
            "Epoch 8/10\n",
            "60000/60000 [==============================] - 6s 108us/sample - loss: 0.0281 - accuracy: 0.7940\n",
            "Epoch 9/10\n",
            "60000/60000 [==============================] - 7s 109us/sample - loss: 0.0280 - accuracy: 0.7944\n",
            "Epoch 10/10\n",
            "60000/60000 [==============================] - 6s 107us/sample - loss: 0.0279 - accuracy: 0.7942\n"
          ]
        },
        {
          "output_type": "stream",
          "name": "stderr",
          "text": [
            "/usr/local/lib/python3.7/dist-packages/keras/engine/training.py:2470: UserWarning: `Model.state_updates` will be removed in a future version. This property should not be used in TensorFlow 2.0, as `updates` are applied automatically.\n",
            "  warnings.warn('`Model.state_updates` will be removed in a future version. '\n"
          ]
        },
        {
          "output_type": "stream",
          "name": "stdout",
          "text": [
            "[[5.1125184e-09 5.1125184e-09 5.1125184e-09 5.1125184e-09 5.1125184e-09\n",
            "  5.1125184e-09 5.1125184e-09 1.0000000e+00 5.1125184e-09 5.1125184e-09]]\n",
            "7\n"
          ]
        }
      ]
    }
  ]
}